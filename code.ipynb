{
 "cells": [
  {
   "cell_type": "code",
   "execution_count": 250,
   "metadata": {},
   "outputs": [],
   "source": [
    "import geopandas as gpd\n",
    "import gspatial_plot as gsp\n",
    "import matplotlib.pyplot as plt\n",
    "import seaborn as sns\n",
    "import pandas as pd\n",
    "import mplleaflet"
   ]
  },
  {
   "cell_type": "code",
   "execution_count": 251,
   "metadata": {},
   "outputs": [],
   "source": [
    "states = gpd.read_file(\"us_states.geojson\")\n",
    "fires = gpd.read_file(\"Monitoring_Trends_in_Burn_Severity _Fire_Occurrence_Locations_and_Burned_Area_Boundaries.geojson\")"
   ]
  },
  {
   "cell_type": "code",
   "execution_count": 252,
   "metadata": {},
   "outputs": [],
   "source": [
    "# states = states[\n",
    "#     ~states[\"NAME\"].isin(\n",
    "#         [\n",
    "#             \"Guam\",\n",
    "#             \"American Samoa\",\n",
    "#             \"Commonwealth of the Northern Mariana Islands\",\n",
    "#             \"Alaska\",\n",
    "#             \"Hawaii\"\n",
    "#         ]\n",
    "#     )\n",
    "# ]"
   ]
  },
  {
   "cell_type": "code",
   "execution_count": 253,
   "metadata": {},
   "outputs": [
    {
     "data": {
      "text/html": [
       "<div>\n",
       "<style scoped>\n",
       "    .dataframe tbody tr th:only-of-type {\n",
       "        vertical-align: middle;\n",
       "    }\n",
       "\n",
       "    .dataframe tbody tr th {\n",
       "        vertical-align: top;\n",
       "    }\n",
       "\n",
       "    .dataframe thead th {\n",
       "        text-align: right;\n",
       "    }\n",
       "</style>\n",
       "<table border=\"1\" class=\"dataframe\">\n",
       "  <thead>\n",
       "    <tr style=\"text-align: right;\">\n",
       "      <th></th>\n",
       "      <th>STATEFP</th>\n",
       "      <th>STATENS</th>\n",
       "      <th>AFFGEOID</th>\n",
       "      <th>GEOID</th>\n",
       "      <th>STUSPS</th>\n",
       "      <th>NAME</th>\n",
       "      <th>LSAD</th>\n",
       "      <th>ALAND</th>\n",
       "      <th>AWATER</th>\n",
       "      <th>geometry</th>\n",
       "    </tr>\n",
       "  </thead>\n",
       "  <tbody>\n",
       "    <tr>\n",
       "      <th>0</th>\n",
       "      <td>24</td>\n",
       "      <td>01714934</td>\n",
       "      <td>0400000US24</td>\n",
       "      <td>24</td>\n",
       "      <td>MD</td>\n",
       "      <td>Maryland</td>\n",
       "      <td>00</td>\n",
       "      <td>25151100280</td>\n",
       "      <td>6979966958</td>\n",
       "      <td>MULTIPOLYGON (((-76.04621 38.02553, -76.00734 ...</td>\n",
       "    </tr>\n",
       "    <tr>\n",
       "      <th>1</th>\n",
       "      <td>19</td>\n",
       "      <td>01779785</td>\n",
       "      <td>0400000US19</td>\n",
       "      <td>19</td>\n",
       "      <td>IA</td>\n",
       "      <td>Iowa</td>\n",
       "      <td>00</td>\n",
       "      <td>144661267977</td>\n",
       "      <td>1084180812</td>\n",
       "      <td>MULTIPOLYGON (((-96.62188 42.77925, -96.57794 ...</td>\n",
       "    </tr>\n",
       "    <tr>\n",
       "      <th>2</th>\n",
       "      <td>10</td>\n",
       "      <td>01779781</td>\n",
       "      <td>0400000US10</td>\n",
       "      <td>10</td>\n",
       "      <td>DE</td>\n",
       "      <td>Delaware</td>\n",
       "      <td>00</td>\n",
       "      <td>5045925646</td>\n",
       "      <td>1399985648</td>\n",
       "      <td>MULTIPOLYGON (((-75.77379 39.72220, -75.75323 ...</td>\n",
       "    </tr>\n",
       "    <tr>\n",
       "      <th>3</th>\n",
       "      <td>39</td>\n",
       "      <td>01085497</td>\n",
       "      <td>0400000US39</td>\n",
       "      <td>39</td>\n",
       "      <td>OH</td>\n",
       "      <td>Ohio</td>\n",
       "      <td>00</td>\n",
       "      <td>105828882568</td>\n",
       "      <td>10268850702</td>\n",
       "      <td>MULTIPOLYGON (((-82.86334 41.69369, -82.82572 ...</td>\n",
       "    </tr>\n",
       "    <tr>\n",
       "      <th>4</th>\n",
       "      <td>42</td>\n",
       "      <td>01779798</td>\n",
       "      <td>0400000US42</td>\n",
       "      <td>42</td>\n",
       "      <td>PA</td>\n",
       "      <td>Pennsylvania</td>\n",
       "      <td>00</td>\n",
       "      <td>115884442321</td>\n",
       "      <td>3394589990</td>\n",
       "      <td>MULTIPOLYGON (((-80.51989 40.90666, -80.51964 ...</td>\n",
       "    </tr>\n",
       "  </tbody>\n",
       "</table>\n",
       "</div>"
      ],
      "text/plain": [
       "  STATEFP   STATENS     AFFGEOID GEOID STUSPS          NAME LSAD   \n",
       "0      24  01714934  0400000US24    24     MD      Maryland   00  \\\n",
       "1      19  01779785  0400000US19    19     IA          Iowa   00   \n",
       "2      10  01779781  0400000US10    10     DE      Delaware   00   \n",
       "3      39  01085497  0400000US39    39     OH          Ohio   00   \n",
       "4      42  01779798  0400000US42    42     PA  Pennsylvania   00   \n",
       "\n",
       "          ALAND       AWATER   \n",
       "0   25151100280   6979966958  \\\n",
       "1  144661267977   1084180812   \n",
       "2    5045925646   1399985648   \n",
       "3  105828882568  10268850702   \n",
       "4  115884442321   3394589990   \n",
       "\n",
       "                                            geometry  \n",
       "0  MULTIPOLYGON (((-76.04621 38.02553, -76.00734 ...  \n",
       "1  MULTIPOLYGON (((-96.62188 42.77925, -96.57794 ...  \n",
       "2  MULTIPOLYGON (((-75.77379 39.72220, -75.75323 ...  \n",
       "3  MULTIPOLYGON (((-82.86334 41.69369, -82.82572 ...  \n",
       "4  MULTIPOLYGON (((-80.51989 40.90666, -80.51964 ...  "
      ]
     },
     "execution_count": 253,
     "metadata": {},
     "output_type": "execute_result"
    }
   ],
   "source": [
    "states.head()"
   ]
  },
  {
   "cell_type": "code",
   "execution_count": 254,
   "metadata": {},
   "outputs": [
    {
     "data": {
      "text/html": [
       "<div>\n",
       "<style scoped>\n",
       "    .dataframe tbody tr th:only-of-type {\n",
       "        vertical-align: middle;\n",
       "    }\n",
       "\n",
       "    .dataframe tbody tr th {\n",
       "        vertical-align: top;\n",
       "    }\n",
       "\n",
       "    .dataframe thead th {\n",
       "        text-align: right;\n",
       "    }\n",
       "</style>\n",
       "<table border=\"1\" class=\"dataframe\">\n",
       "  <thead>\n",
       "    <tr style=\"text-align: right;\">\n",
       "      <th></th>\n",
       "      <th>OBJECTID</th>\n",
       "      <th>FIRE_ID</th>\n",
       "      <th>ASMNT_TYPE</th>\n",
       "      <th>PRE_ID</th>\n",
       "      <th>POST_ID</th>\n",
       "      <th>NODATA_THRESHOLD</th>\n",
       "      <th>LOW_THRESHOLD</th>\n",
       "      <th>MODERATE_THRESHOLD</th>\n",
       "      <th>HIGH_THRESHOLD</th>\n",
       "      <th>LATITUDE</th>\n",
       "      <th>...</th>\n",
       "      <th>IG_DATE</th>\n",
       "      <th>ACRES</th>\n",
       "      <th>IRWINID</th>\n",
       "      <th>MAP_ID</th>\n",
       "      <th>MAP_PROG</th>\n",
       "      <th>PERIM_ID</th>\n",
       "      <th>DNBR_OFFST</th>\n",
       "      <th>DNBR_STDDV</th>\n",
       "      <th>COMMENTS</th>\n",
       "      <th>geometry</th>\n",
       "    </tr>\n",
       "  </thead>\n",
       "  <tbody>\n",
       "    <tr>\n",
       "      <th>0</th>\n",
       "      <td>526496</td>\n",
       "      <td>AL3276508694720210320</td>\n",
       "      <td>Initial</td>\n",
       "      <td>802003720210313</td>\n",
       "      <td>802003720210329</td>\n",
       "      <td>-970</td>\n",
       "      <td>70</td>\n",
       "      <td>9999</td>\n",
       "      <td>9999</td>\n",
       "      <td>32.776</td>\n",
       "      <td>...</td>\n",
       "      <td>2021-03-20 00:00:00+00:00</td>\n",
       "      <td>1966</td>\n",
       "      <td>F512DED1-3A47-40F9-AA5C-AA8ECB5555E5</td>\n",
       "      <td>10021865</td>\n",
       "      <td>MTBS</td>\n",
       "      <td>NaN</td>\n",
       "      <td>34</td>\n",
       "      <td>17</td>\n",
       "      <td>NaN</td>\n",
       "      <td>POINT (-86.94711 32.77450)</td>\n",
       "    </tr>\n",
       "    <tr>\n",
       "      <th>1</th>\n",
       "      <td>526497</td>\n",
       "      <td>AL3279308700220211120</td>\n",
       "      <td>Initial</td>\n",
       "      <td>B16SDB20211115_30m</td>\n",
       "      <td>A16SDB20211123_30m</td>\n",
       "      <td>-970</td>\n",
       "      <td>80</td>\n",
       "      <td>9999</td>\n",
       "      <td>9999</td>\n",
       "      <td>32.785</td>\n",
       "      <td>...</td>\n",
       "      <td>2021-11-20 00:00:00+00:00</td>\n",
       "      <td>578</td>\n",
       "      <td>D7A20B61-04AA-42FE-ABCA-865F129167EE</td>\n",
       "      <td>10022026</td>\n",
       "      <td>MTBS</td>\n",
       "      <td>NaN</td>\n",
       "      <td>65</td>\n",
       "      <td>31</td>\n",
       "      <td>AL3277908698120211116 is a duplicate of this f...</td>\n",
       "      <td>POINT (-87.00658 32.78629)</td>\n",
       "    </tr>\n",
       "    <tr>\n",
       "      <th>2</th>\n",
       "      <td>526498</td>\n",
       "      <td>AL3290408705120210321</td>\n",
       "      <td>Initial</td>\n",
       "      <td>B16SDB20210320_30m</td>\n",
       "      <td>B16SDB20210402_30m</td>\n",
       "      <td>-970</td>\n",
       "      <td>10</td>\n",
       "      <td>9999</td>\n",
       "      <td>9999</td>\n",
       "      <td>32.911</td>\n",
       "      <td>...</td>\n",
       "      <td>2021-03-21 00:00:00+00:00</td>\n",
       "      <td>1313</td>\n",
       "      <td>9ECE2635-8788-4E37-91A7-82FA3C45EEEA</td>\n",
       "      <td>10021855</td>\n",
       "      <td>MTBS</td>\n",
       "      <td>NaN</td>\n",
       "      <td>-12</td>\n",
       "      <td>20</td>\n",
       "      <td>NaN</td>\n",
       "      <td>POINT (-87.05778 32.90670)</td>\n",
       "    </tr>\n",
       "    <tr>\n",
       "      <th>3</th>\n",
       "      <td>526499</td>\n",
       "      <td>AL3314708607620210419</td>\n",
       "      <td>Initial</td>\n",
       "      <td>A16SEB20200509_30m</td>\n",
       "      <td>B16SEB20210509_30m</td>\n",
       "      <td>-970</td>\n",
       "      <td>20</td>\n",
       "      <td>9999</td>\n",
       "      <td>9999</td>\n",
       "      <td>33.151</td>\n",
       "      <td>...</td>\n",
       "      <td>2021-04-19 00:00:00+00:00</td>\n",
       "      <td>1826</td>\n",
       "      <td>E18DFB2D-271E-4ECE-953A-B7BC5CFE6718</td>\n",
       "      <td>10021921</td>\n",
       "      <td>MTBS</td>\n",
       "      <td>NaN</td>\n",
       "      <td>-8</td>\n",
       "      <td>15</td>\n",
       "      <td>NaN</td>\n",
       "      <td>POINT (-86.08856 33.14911)</td>\n",
       "    </tr>\n",
       "    <tr>\n",
       "      <th>4</th>\n",
       "      <td>526500</td>\n",
       "      <td>AL3315508618420211119</td>\n",
       "      <td>Initial</td>\n",
       "      <td>B16SEB20201120_30m</td>\n",
       "      <td>B16SEB20211125_30m</td>\n",
       "      <td>-970</td>\n",
       "      <td>90</td>\n",
       "      <td>9999</td>\n",
       "      <td>9999</td>\n",
       "      <td>33.156</td>\n",
       "      <td>...</td>\n",
       "      <td>2021-11-19 00:00:00+00:00</td>\n",
       "      <td>670</td>\n",
       "      <td>CB27E9BA-2B5D-4128-B92B-A38AE1246C81</td>\n",
       "      <td>10021983</td>\n",
       "      <td>MTBS</td>\n",
       "      <td>NaN</td>\n",
       "      <td>25</td>\n",
       "      <td>31</td>\n",
       "      <td>NaN</td>\n",
       "      <td>POINT (-86.18762 33.15883)</td>\n",
       "    </tr>\n",
       "  </tbody>\n",
       "</table>\n",
       "<p>5 rows × 24 columns</p>\n",
       "</div>"
      ],
      "text/plain": [
       "   OBJECTID                FIRE_ID ASMNT_TYPE              PRE_ID   \n",
       "0    526496  AL3276508694720210320    Initial     802003720210313  \\\n",
       "1    526497  AL3279308700220211120    Initial  B16SDB20211115_30m   \n",
       "2    526498  AL3290408705120210321    Initial  B16SDB20210320_30m   \n",
       "3    526499  AL3314708607620210419    Initial  A16SEB20200509_30m   \n",
       "4    526500  AL3315508618420211119    Initial  B16SEB20201120_30m   \n",
       "\n",
       "              POST_ID  NODATA_THRESHOLD  LOW_THRESHOLD  MODERATE_THRESHOLD   \n",
       "0     802003720210329              -970             70                9999  \\\n",
       "1  A16SDB20211123_30m              -970             80                9999   \n",
       "2  B16SDB20210402_30m              -970             10                9999   \n",
       "3  B16SEB20210509_30m              -970             20                9999   \n",
       "4  B16SEB20211125_30m              -970             90                9999   \n",
       "\n",
       "   HIGH_THRESHOLD  LATITUDE  ...                   IG_DATE ACRES   \n",
       "0            9999    32.776  ... 2021-03-20 00:00:00+00:00  1966  \\\n",
       "1            9999    32.785  ... 2021-11-20 00:00:00+00:00   578   \n",
       "2            9999    32.911  ... 2021-03-21 00:00:00+00:00  1313   \n",
       "3            9999    33.151  ... 2021-04-19 00:00:00+00:00  1826   \n",
       "4            9999    33.156  ... 2021-11-19 00:00:00+00:00   670   \n",
       "\n",
       "                                IRWINID    MAP_ID MAP_PROG  PERIM_ID   \n",
       "0  F512DED1-3A47-40F9-AA5C-AA8ECB5555E5  10021865     MTBS       NaN  \\\n",
       "1  D7A20B61-04AA-42FE-ABCA-865F129167EE  10022026     MTBS       NaN   \n",
       "2  9ECE2635-8788-4E37-91A7-82FA3C45EEEA  10021855     MTBS       NaN   \n",
       "3  E18DFB2D-271E-4ECE-953A-B7BC5CFE6718  10021921     MTBS       NaN   \n",
       "4  CB27E9BA-2B5D-4128-B92B-A38AE1246C81  10021983     MTBS       NaN   \n",
       "\n",
       "  DNBR_OFFST  DNBR_STDDV                                           COMMENTS   \n",
       "0         34          17                                                NaN  \\\n",
       "1         65          31  AL3277908698120211116 is a duplicate of this f...   \n",
       "2        -12          20                                                NaN   \n",
       "3         -8          15                                                NaN   \n",
       "4         25          31                                                NaN   \n",
       "\n",
       "                     geometry  \n",
       "0  POINT (-86.94711 32.77450)  \n",
       "1  POINT (-87.00658 32.78629)  \n",
       "2  POINT (-87.05778 32.90670)  \n",
       "3  POINT (-86.08856 33.14911)  \n",
       "4  POINT (-86.18762 33.15883)  \n",
       "\n",
       "[5 rows x 24 columns]"
      ]
     },
     "execution_count": 254,
     "metadata": {},
     "output_type": "execute_result"
    }
   ],
   "source": [
    "fires.head()"
   ]
  },
  {
   "cell_type": "code",
   "execution_count": 255,
   "metadata": {},
   "outputs": [
    {
     "data": {
      "text/plain": [
       "(547, 24)"
      ]
     },
     "execution_count": 255,
     "metadata": {},
     "output_type": "execute_result"
    }
   ],
   "source": [
    "# fires.info()\n",
    "fires.shape"
   ]
  },
  {
   "cell_type": "code",
   "execution_count": 256,
   "metadata": {},
   "outputs": [
    {
     "data": {
      "text/plain": [
       "(52, 10)"
      ]
     },
     "execution_count": 256,
     "metadata": {},
     "output_type": "execute_result"
    }
   ],
   "source": [
    "states.shape"
   ]
  },
  {
   "cell_type": "code",
   "execution_count": 257,
   "metadata": {},
   "outputs": [
    {
     "name": "stderr",
     "output_type": "stream",
     "text": [
      "/var/folders/81/7lgztltx67d37zy072b6bcsw0000gn/T/ipykernel_6631/2831718965.py:1: FutureWarning: Currently, index_parts defaults to True, but in the future, it will default to False to be consistent with Pandas. Use `index_parts=True` to keep the current behavior and True/False to silence the warning.\n",
      "  states = states.explode(column=\"geometry\")\n"
     ]
    },
    {
     "data": {
      "text/html": [
       "<div>\n",
       "<style scoped>\n",
       "    .dataframe tbody tr th:only-of-type {\n",
       "        vertical-align: middle;\n",
       "    }\n",
       "\n",
       "    .dataframe tbody tr th {\n",
       "        vertical-align: top;\n",
       "    }\n",
       "\n",
       "    .dataframe thead th {\n",
       "        text-align: right;\n",
       "    }\n",
       "</style>\n",
       "<table border=\"1\" class=\"dataframe\">\n",
       "  <thead>\n",
       "    <tr style=\"text-align: right;\">\n",
       "      <th></th>\n",
       "      <th>STATEFP</th>\n",
       "      <th>STATENS</th>\n",
       "      <th>AFFGEOID</th>\n",
       "      <th>GEOID</th>\n",
       "      <th>STUSPS</th>\n",
       "      <th>NAME</th>\n",
       "      <th>LSAD</th>\n",
       "      <th>ALAND</th>\n",
       "      <th>AWATER</th>\n",
       "      <th>geometry</th>\n",
       "    </tr>\n",
       "  </thead>\n",
       "  <tbody>\n",
       "    <tr>\n",
       "      <th>0</th>\n",
       "      <td>24</td>\n",
       "      <td>01714934</td>\n",
       "      <td>0400000US24</td>\n",
       "      <td>24</td>\n",
       "      <td>MD</td>\n",
       "      <td>Maryland</td>\n",
       "      <td>00</td>\n",
       "      <td>25151100280</td>\n",
       "      <td>6979966958</td>\n",
       "      <td>POLYGON ((-76.04621 38.02553, -76.00734 38.036...</td>\n",
       "    </tr>\n",
       "    <tr>\n",
       "      <th>1</th>\n",
       "      <td>24</td>\n",
       "      <td>01714934</td>\n",
       "      <td>0400000US24</td>\n",
       "      <td>24</td>\n",
       "      <td>MD</td>\n",
       "      <td>Maryland</td>\n",
       "      <td>00</td>\n",
       "      <td>25151100280</td>\n",
       "      <td>6979966958</td>\n",
       "      <td>POLYGON ((-79.48437 39.34430, -79.48237 39.531...</td>\n",
       "    </tr>\n",
       "    <tr>\n",
       "      <th>2</th>\n",
       "      <td>19</td>\n",
       "      <td>01779785</td>\n",
       "      <td>0400000US19</td>\n",
       "      <td>19</td>\n",
       "      <td>IA</td>\n",
       "      <td>Iowa</td>\n",
       "      <td>00</td>\n",
       "      <td>144661267977</td>\n",
       "      <td>1084180812</td>\n",
       "      <td>POLYGON ((-96.62188 42.77925, -96.57794 42.827...</td>\n",
       "    </tr>\n",
       "    <tr>\n",
       "      <th>3</th>\n",
       "      <td>10</td>\n",
       "      <td>01779781</td>\n",
       "      <td>0400000US10</td>\n",
       "      <td>10</td>\n",
       "      <td>DE</td>\n",
       "      <td>Delaware</td>\n",
       "      <td>00</td>\n",
       "      <td>5045925646</td>\n",
       "      <td>1399985648</td>\n",
       "      <td>POLYGON ((-75.77379 39.72220, -75.75323 39.757...</td>\n",
       "    </tr>\n",
       "    <tr>\n",
       "      <th>4</th>\n",
       "      <td>39</td>\n",
       "      <td>01085497</td>\n",
       "      <td>0400000US39</td>\n",
       "      <td>39</td>\n",
       "      <td>OH</td>\n",
       "      <td>Ohio</td>\n",
       "      <td>00</td>\n",
       "      <td>105828882568</td>\n",
       "      <td>10268850702</td>\n",
       "      <td>POLYGON ((-82.86334 41.69369, -82.82572 41.722...</td>\n",
       "    </tr>\n",
       "  </tbody>\n",
       "</table>\n",
       "</div>"
      ],
      "text/plain": [
       "  STATEFP   STATENS     AFFGEOID GEOID STUSPS      NAME LSAD         ALAND   \n",
       "0      24  01714934  0400000US24    24     MD  Maryland   00   25151100280  \\\n",
       "1      24  01714934  0400000US24    24     MD  Maryland   00   25151100280   \n",
       "2      19  01779785  0400000US19    19     IA      Iowa   00  144661267977   \n",
       "3      10  01779781  0400000US10    10     DE  Delaware   00    5045925646   \n",
       "4      39  01085497  0400000US39    39     OH      Ohio   00  105828882568   \n",
       "\n",
       "        AWATER                                           geometry  \n",
       "0   6979966958  POLYGON ((-76.04621 38.02553, -76.00734 38.036...  \n",
       "1   6979966958  POLYGON ((-79.48437 39.34430, -79.48237 39.531...  \n",
       "2   1084180812  POLYGON ((-96.62188 42.77925, -96.57794 42.827...  \n",
       "3   1399985648  POLYGON ((-75.77379 39.72220, -75.75323 39.757...  \n",
       "4  10268850702  POLYGON ((-82.86334 41.69369, -82.82572 41.722...  "
      ]
     },
     "execution_count": 257,
     "metadata": {},
     "output_type": "execute_result"
    }
   ],
   "source": [
    "states = states.explode(column=\"geometry\")\n",
    "states = states.reset_index(drop=True)\n",
    "states.head()"
   ]
  },
  {
   "cell_type": "code",
   "execution_count": 258,
   "metadata": {},
   "outputs": [
    {
     "data": {
      "image/png": "[encoded data removed]",
      "text/plain": [
       "<Figure size 1000x1000 with 1 Axes>"
      ]
     },
     "metadata": {},
     "output_type": "display_data"
    }
   ],
   "source": [
    "# Plot the states\n",
    "fig, ax = plt.subplots(figsize=(10, 10))\n",
    "states.plot(ax=ax, color=\"pink\", edgecolor=\"black\")\n",
    "plt.show()"
   ]
  },
  {
   "attachments": {},
   "cell_type": "markdown",
   "metadata": {},
   "source": [
    "### Task 1 : Do a spatial join on two datasets such that each fire occurance has state information (Look for sjoin in geopandas documentation)"
   ]
  },
  {
   "cell_type": "code",
   "execution_count": 259,
   "metadata": {},
   "outputs": [
    {
     "name": "stderr",
     "output_type": "stream",
     "text": [
      "/Users/pratyushagrawal/Desktop/DAV_Projects/Internship_Assignments/Ambee/Intern Assignment/env/lib/python3.10/site-packages/IPython/core/interactiveshell.py:3445: FutureWarning: The `op` parameter is deprecated and will be removed in a future release. Please use the `predicate` parameter instead.\n",
      "  if await self.run_code(code, result, async_=asy):\n"
     ]
    },
    {
     "data": {
      "text/plain": [
       "0    POINT (-86.94711 32.77450)\n",
       "1    POINT (-87.00658 32.78629)\n",
       "2    POINT (-87.05778 32.90670)\n",
       "3    POINT (-86.08856 33.14911)\n",
       "4    POINT (-86.18762 33.15883)\n",
       "Name: geometry, dtype: geometry"
      ]
     },
     "execution_count": 259,
     "metadata": {},
     "output_type": "execute_result"
    }
   ],
   "source": [
    "# Rename the index columns in both GeoDataFrames\n",
    "fires = fires.rename_axis('fire_id').reset_index()\n",
    "states = states.rename_axis('state_id').reset_index()\n",
    "\n",
    "# Perform the spatial join using the renamed index columns\n",
    "fires = gpd.sjoin(fires, states, how=\"left\", op=\"within\")\n",
    "fires['geometry'].head()"
   ]
  },
  {
   "cell_type": "code",
   "execution_count": 260,
   "metadata": {},
   "outputs": [
    {
     "data": {
      "text/plain": [
       "Index(['fire_id', 'OBJECTID', 'FIRE_ID', 'ASMNT_TYPE', 'PRE_ID', 'POST_ID',\n",
       "       'NODATA_THRESHOLD', 'LOW_THRESHOLD', 'MODERATE_THRESHOLD',\n",
       "       'HIGH_THRESHOLD', 'LATITUDE', 'LONGITUDE', 'FIRE_TYPE', 'FIRE_NAME',\n",
       "       'GREENNESS_THRESHOLD', 'IG_DATE', 'ACRES', 'IRWINID', 'MAP_ID',\n",
       "       'MAP_PROG', 'PERIM_ID', 'DNBR_OFFST', 'DNBR_STDDV', 'COMMENTS',\n",
       "       'geometry', 'index_right', 'state_id', 'STATEFP', 'STATENS', 'AFFGEOID',\n",
       "       'GEOID', 'STUSPS', 'NAME', 'LSAD', 'ALAND', 'AWATER'],\n",
       "      dtype='object')"
      ]
     },
     "execution_count": 260,
     "metadata": {},
     "output_type": "execute_result"
    }
   ],
   "source": [
    "fires.columns"
   ]
  },
  {
   "attachments": {},
   "cell_type": "markdown",
   "metadata": {},
   "source": [
    "### Task 2 : Which state had the most number of fires?"
   ]
  },
  {
   "cell_type": "code",
   "execution_count": 261,
   "metadata": {},
   "outputs": [
    {
     "name": "stdout",
     "output_type": "stream",
     "text": [
      "State with most fires:  Alabama\n"
     ]
    }
   ],
   "source": [
    "# Which state had the most number of fires?\n",
    "fires['NAME'].value_counts()\n",
    "print(\"State with most fires: \", fires['NAME'].value_counts().index[0])"
   ]
  },
  {
   "attachments": {},
   "cell_type": "markdown",
   "metadata": {},
   "source": [
    "### Task 3 : Which state had the least number of fires?"
   ]
  },
  {
   "cell_type": "code",
   "execution_count": 262,
   "metadata": {},
   "outputs": [
    {
     "name": "stdout",
     "output_type": "stream",
     "text": [
      "State with least fires:  Michigan\n"
     ]
    }
   ],
   "source": [
    "# Which state had the least number of fires?\n",
    "print(\"State with least fires: \", fires['NAME'].value_counts().index[-1])"
   ]
  },
  {
   "attachments": {},
   "cell_type": "markdown",
   "metadata": {},
   "source": [
    "### Task 4 : Is there any relationship between number of fires vs total water area (AWATER)?"
   ]
  },
  {
   "cell_type": "code",
   "execution_count": 263,
   "metadata": {},
   "outputs": [
    {
     "name": "stdout",
     "output_type": "stream",
     "text": [
      "Correlation coefficient between number of fires and total water area:  0.7120638063621468\n"
     ]
    }
   ],
   "source": [
    "# Create a new DataFrame with the number of fires and total water area by state\n",
    "fires_by_state = fires.groupby('NAME').agg({'fire_id': 'count', 'AWATER': 'sum'})\n",
    "\n",
    "# Calculate the correlation coefficient between the number of fires and total water area\n",
    "correlation = fires_by_state['fire_id'].corr(fires_by_state['AWATER'])\n",
    "\n",
    "# Print the correlation coefficient\n",
    "print(\"Correlation coefficient between number of fires and total water area: \", correlation)\n"
   ]
  },
  {
   "attachments": {},
   "cell_type": "markdown",
   "metadata": {},
   "source": [
    "As the value of correlation coefficient is relatively higher than 0.5, we can say that there is a positive correlation between number of fires and total water area.\n",
    "Hence there exist some relationship between number of fires and total water area."
   ]
  },
  {
   "attachments": {},
   "cell_type": "markdown",
   "metadata": {},
   "source": [
    "### Task 5 : Plot a heatmap of fires (You can use gspatial-plot or geopandas or any other library)"
   ]
  },
  {
   "cell_type": "code",
   "execution_count": 264,
   "metadata": {},
   "outputs": [
    {
     "name": "stderr",
     "output_type": "stream",
     "text": [
      "/var/folders/81/7lgztltx67d37zy072b6bcsw0000gn/T/ipykernel_6631/164566258.py:9: UserWarning: The `max_val` parameter is no longer necessary. The largest intensity is calculated automatically.\n",
      "  HeatMap(heatmap_data, name='Fires', radius=12, max_val=max(fires['ACRES'])).add_to(map_fires)\n"
     ]
    },
    {
     "data": {
      "text/html": [
       "<div style=\"width:100%;\"><div style=\"position:relative;width:100%;height:0;padding-bottom:60%;\"><span style=\"color:#565656\">Make this Notebook Trusted to load map: File -> Trust Notebook</span><iframe srcdoc=\"&lt;!DOCTYPE html&gt;\n",
       "&lt;html&gt;\n",
       "&lt;head&gt;\n",
       "    \n",
       "    &lt;meta http-equiv=&quot;content-type&quot; content=&quot;text/html; charset=UTF-8&quot; /&gt;\n",
       "    \n",
       "        &lt;script&gt;\n",
       "            L_NO_TOUCH = false;\n",
       "            L_DISABLE_3D = false;\n",
       "        &lt;/script&gt;\n",
       "    \n",
       "    &lt;style&gt;html, body {width: 100%;height: 100%;margin: 0;padding: 0;}&lt;/style&gt;\n",
       "    &lt;style&gt;#map {position:absolute;top:0;bottom:0;right:0;left:0;}&lt;/style&gt;\n",
       "    &lt;script src=&quot;https://cdn.jsdelivr.net/npm/leaflet@1.9.3/dist/leaflet.js&quot;&gt;&lt;/script&gt;\n",
       "    &lt;script src=&quot;https://code.jquery.com/jquery-1.12.4.min.js&quot;&gt;&lt;/script&gt;\n",
       "    &lt;script src=&quot;https://cdn.jsdelivr.net/npm/bootstrap@5.2.2/dist/js/bootstrap.bundle.min.js&quot;&gt;&lt;/script&gt;\n",
       "    &lt;script src=&quot;https://cdnjs.cloudflare.com/ajax/libs/Leaflet.awesome-markers/2.0.2/leaflet.awesome-markers.js&quot;&gt;&lt;/script&gt;\n",
       "    &lt;link rel=&quot;stylesheet&quot; href=&quot;https://cdn.jsdelivr.net/npm/leaflet@1.9.3/dist/leaflet.css&quot;/&gt;\n",
       "    &lt;link rel=&quot;stylesheet&quot; href=&quot;https://cdn.jsdelivr.net/npm/bootstrap@5.2.2/dist/css/bootstrap.min.css&quot;/&gt;\n",
       "    &lt;link rel=&quot;stylesheet&quot; href=&quot;https://netdna.bootstrapcdn.com/bootstrap/3.0.0/css/bootstrap.min.css&quot;/&gt;\n",
       "    &lt;link rel=&quot;stylesheet&quot; href=&quot;https://cdn.jsdelivr.net/npm/@fortawesome/fontawesome-free@6.2.0/css/all.min.css&quot;/&gt;\n",
       "    &lt;link rel=&quot;stylesheet&quot; href=&quot;https://cdnjs.cloudflare.com/ajax/libs/Leaflet.awesome-markers/2.0.2/leaflet.awesome-markers.css&quot;/&gt;\n",
       "    &lt;link rel=&quot;stylesheet&quot; href=&quot;https://cdn.jsdelivr.net/gh/python-visualization/folium/folium/templates/leaflet.awesome.rotate.min.css&quot;/&gt;\n",
       "    \n",
       "            &lt;meta name=&quot;viewport&quot; content=&quot;width=device-width,\n",
       "                initial-scale=1.0, maximum-scale=1.0, user-scalable=no&quot; /&gt;\n",
       "            &lt;style&gt;\n",
       "                #map_eb6fdb3c18e64be817e603ce6aa7eaf9 {\n",
       "                    position: relative;\n",
       "                    width: 100.0%;\n",
       "                    height: 100.0%;\n",
       "                    left: 0.0%;\n",
       "                    top: 0.0%;\n",
       "                }\n",
       "                .leaflet-container { font-size: 1rem; }\n",
       "            &lt;/style&gt;\n",
       "        \n",
       "    &lt;script src=&quot;https://cdn.jsdelivr.net/gh/python-visualization/folium@main/folium/templates/leaflet_heat.min.js&quot;&gt;&lt;/script&gt;\n",
       "&lt;/head&gt;\n",
       "&lt;body&gt;\n",
       "    \n",
       "    \n",
       "            &lt;div class=&quot;folium-map&quot; id=&quot;map_eb6fdb3c18e64be817e603ce6aa7eaf9&quot; &gt;&lt;/div&gt;\n",
       "        \n",
       "&lt;/body&gt;\n",
       "&lt;script&gt;\n",
       "    \n",
       "    \n",
       "            var map_eb6fdb3c18e64be817e603ce6aa7eaf9 = L.map(\n",
       "                &quot;map_eb6fdb3c18e64be817e603ce6aa7eaf9&quot;,\n",
       "                {\n",
       "                    center: [33.9180365630713, -90.73884095063984],\n",
       "                    crs: L.CRS.EPSG3857,\n",
       "                    zoom: 5,\n",
       "                    zoomControl: true,\n",
       "                    preferCanvas: false,\n",
       "                }\n",
       "            );\n",
       "\n",
       "            \n",
       "\n",
       "        \n",
       "    \n",
       "            var tile_layer_c6884a2b79db48da56ce16585a2b6d1f = L.tileLayer(\n",
       "                &quot;https://{s}.tile.openstreetmap.org/{z}/{x}/{y}.png&quot;,\n",
       "                {&quot;attribution&quot;: &quot;Data by \\u0026copy; \\u003ca target=\\&quot;_blank\\&quot; href=\\&quot;http://openstreetmap.org\\&quot;\\u003eOpenStreetMap\\u003c/a\\u003e, under \\u003ca target=\\&quot;_blank\\&quot; href=\\&quot;http://www.openstreetmap.org/copyright\\&quot;\\u003eODbL\\u003c/a\\u003e.&quot;, &quot;detectRetina&quot;: false, &quot;maxNativeZoom&quot;: 18, &quot;maxZoom&quot;: 18, &quot;minZoom&quot;: 0, &quot;noWrap&quot;: false, &quot;opacity&quot;: 1, &quot;subdomains&quot;: &quot;abc&quot;, &quot;tms&quot;: false}\n",
       "            ).addTo(map_eb6fdb3c18e64be817e603ce6aa7eaf9);\n",
       "        \n",
       "    \n",
       "            var heat_map_9afd866835c603a0b13b6698717e8811 = L.heatLayer(\n",
       "                [[32.776, -86.942, 1966], [32.785, -87.013, 578], [32.911, -87.058, 1313], [33.151, -86.087, 1826], [33.156, -86.189, 670], [33.181, -86.197, 613], [33.197, -86.094, 692], [33.205, -86.177, 500], [33.277, -86.117, 1678], [33.303, -86.127, 541], [33.335, -86.1, 885], [33.349, -86.003, 945], [33.349, -86.05, 3148], [33.381, -85.919, 1810], [33.37, -86.003, 2532], [33.405, -85.934, 602], [33.417, -85.914, 1266], [33.431, -85.925, 720], [33.466, -85.793, 624], [33.463, -85.893, 747], [33.471, -85.873, 1253], [33.503, -85.842, 1211], [33.661, -85.624, 1009], [33.697, -85.642, 934], [33.695, -85.587, 1038], [33.707, -85.564, 1066], [33.723, -85.582, 1682], [33.74, -85.575, 713], [33.749, -85.545, 2444], [33.753, -85.628, 2568], [33.766, -85.58, 878], [33.773, -85.538, 1512], [33.781, -85.604, 791], [33.789, -85.53, 2348], [33.802, -85.565, 906], [33.805, -85.528, 522], [33.808, -85.546, 606], [36.954, -113.692, 2356], [36.967, -113.667, 1152], [32.98, -116.462, 5525], [33.492, -117.38, 1601], [34.097, -118.57, 1369], [34.493, -120.111, 17677], [34.903, -118.906, 2048], [35.363, -115.767, 2499], [35.421, -118.41, 2317], [35.696, -118.567, 27331], [36.01, -120.771, 1231], [36.005, -118.761, 1372], [35.972, -118.606, 97831], [36.208, -121.545, 3090], [36.307, -118.546, 9011], [36.578, -118.802, 89960], [25.38, -80.702, 1030], [25.406, -80.408, 9675], [25.609, -81.165, 4549], [25.719, -80.472, 607], [25.95, -80.924, 3610], [25.963, -81.218, 976], [26.081, -81.157, 1147], [26.162, -81.357, 520], [26.224, -81.317, 968], [26.384, -80.736, 28849], [26.495, -80.412, 4588], [26.56, -80.422, 4196], [26.847, -80.266, 547], [27.55, -81.125, 13782], [27.624, -81.224, 7140], [27.639, -81.325, 1010], [27.64, -81.305, 548], [27.667, -81.297, 1430], [27.683, -81.268, 3275], [27.703, -81.974, 1702], [27.916, -82.1, 642], [28.079, -81.358, 918], [28.426, -81.896, 519], [28.517, -80.711, 1692], [28.577, -80.63, 2212], [28.647, -80.655, 843], [29.046, -81.575, 1274], [29.313, -81.791, 1225], [29.45, -81.823, 979], [29.892, -81.522, 772], [30.104, -84.157, 508], [30.361, -84.384, 1822], [31.087, -82.204, 771], [33.029, -83.655, 554], [33.056, -83.681, 1352], [33.065, -83.691, 586], [33.086, -83.681, 739], [33.079, -83.707, 651], [33.096, -83.663, 749], [33.105, -83.698, 1553], [33.129, -83.587, 557], [33.133, -83.644, 3808], [33.157, -83.508, 1133], [33.164, -83.674, 1756], [33.174, -83.703, 1481], [33.178, -83.74, 1089], [33.177, -83.485, 2143], [33.208, -83.787, 840], [33.2, -83.715, 1233], [33.368, -83.494, 1047], [33.358, -83.461, 1025], [33.405, -83.379, 1088], [33.397, -83.415, 1269], [33.707, -83.068, 832], [34.608, -85.084, 2199], [34.717, -84.143, 1701], [34.814, -84.161, 531], [42.323, -115.56, 2355], [42.498, -115.444, 1368], [42.526, -114.998, 5562], [42.53, -112.498, 1591], [42.615, -115.584, 2310], [42.725, -112.841, 4047], [43.288, -112.229, 1043], [36.864, -84.279, 2128], [36.963, -84.236, 1905], [37.007, -84.254, 1244], [37.021, -83.377, 689], [37.084, -83.662, 503], [37.132, -83.52, 655], [37.38, -83.419, 2462], [42.723, -73.157, 964], [34.955, -76.336, 1603], [34.972, -79.473, 1824], [35.081, -83.623, 517], [35.097, -84.092, 1051], [35.115, -83.595, 703], [35.121, -83.816, 1855], [35.125, -83.564, 1207], [35.137, -83.796, 602], [35.144, -83.618, 1007], [36.34, -80.477, 1106], [35.989, -115.572, 1081], [37.076, -116.407, 25489], [37.308, -116.148, 14385], [37.716, -115.005, 6320], [41.018, -115.603, 1553], [39.487, -82.181, 1037], [32.685, -80.695, 1258], [35.046, -84.572, 3845], [35.082, -84.551, 1014], [35.14, -84.566, 1228], [35.308, -84.217, 1220], [35.323, -84.213, 644], [40.947, -112.83, 2261], [40.984, -111.954, 1565], [41.119, -112.852, 5879], [36.998, -81.457, 1460], [46.354, -117.178, 8864], [46.481, -117.202, 2758], [38.388, -79.751, 711], [31.138, -89.139, 500], [31.065, -86.779, 501], [34.096, -87.347, 519], [36.111, -82.344, 527], [31.159, -89.141, 529], [31.058, -86.702, 506], [31.467, -92.359, 541], [37.324, -91.476, 545], [34.356, -89.405, 555], [31.014, -86.641, 567], [34.667, -89.241, 568], [47.45, -95.566, 569], [31.007, -86.778, 575], [31.083, -86.609, 563], [41.614, -79.379, 586], [34.482, -81.572, 593], [36.75, -84.302, 594], [41.609, -87.207, 594], [32.52, -89.625, 595], [31.14, -86.527, 603], [39.605, -74.386, 605], [28.24, -80.833, 606], [34.65, -89.228, 608], [31.494, -90.889, 609], [31.31, -88.901, 611], [31.027, -92.629, 598], [35.18, -93.708, 779], [37.584, -88.461, 629], [32.921, -87.448, 630], [35.83, -83.151, 631], [32.482, -85.581, 634], [31.494, -88.838, 634], [31.026, -86.754, 630], [36.931, -90.436, 636], [48.67, -96.549, 645], [37.391, -91.575, 648], [34.607, -89.246, 655], [48.202, -95.733, 660], [34.264, -87.272, 664], [34.345, -89.26, 668], [31.074, -89.118, 669], [37.239, -88.554, 670], [34.94, -83.302, 683], [31.093, -86.737, 666], [31.885, -92.76, 683], [37.025, -91.245, 685], [36.803, -91.128, 687], [32.472, -85.597, 703], [41.37, -88.152, 700], [34.634, -89.201, 700], [30.305, -82.571, 703], [48.754, -96.417, 710], [34.689, -88.418, 713], [31.125, -89.002, 715], [37.77, -79.186, 717], [26.178, -81.357, 720], [28.59, -82.45, 723], [34.55, -93.57, 703], [30.56, -88.943, 727], [33.179, -92.223, 727], [31.547, -92.526, 736], [31.122, -86.526, 739], [31.31, -91.02, 746], [32.991, -87.299, 751], [34.638, -89.379, 751], [34.67, -89.222, 751], [26.204, -81.538, 752], [31.354, -91.103, 754], [30.38, -82.432, 756], [32.71, -93.225, 756], [33.105, -88.078, 757], [36.403, -84.994, 761], [34.569, -93.534, 751], [36.855, -92.011, 770], [31.117, -86.72, 743], [36.582, -82.017, 787], [32.153, -81.101, 790], [36.083, -92.168, 791], [31.094, -86.703, 783], [36.024, -81.812, 810], [34.31, -87.316, 813], [37.16, -91.451, 820], [31.01, -86.812, 821], [32.495, -85.588, 823], [36.95, -90.654, 824], [30.978, -89.151, 832], [31.441, -91.011, 833], [31.115, -86.665, 834], [36.921, -84.296, 837], [35.301, -83.011, 840], [31.73, -92.45, 843], [31.115, -86.728, 825], [34.23, -87.206, 856], [34.015, -88.955, 856], [32.981, -87.33, 864], [37.516, -88.46, 865], [34.389, -89.339, 870], [31.513, -88.827, 845], [31.126, -86.708, 878], [34.655, -89.375, 894], [37.606, -89.261, 898], [31.466, -88.702, 904], [29.907, -93.356, 913], [28.641, -80.69, 914], [31.134, -86.746, 933], [31.513, -88.929, 952], [38.067, -86.539, 959], [31.503, -93.06, 960], [30.072, -84.603, 974], [44.235, -90.095, 987], [31.413, -94.184, 1003], [37.862, -89.541, 1011], [34.351, -87.294, 1022], [31.123, -89.16, 1027], [37.381, -88.529, 1033], [30.315, -82.582, 1037], [31.288, -91.016, 1039], [34.418, -93.373, 1051], [31.217, -93.901, 1058], [37.738, -90.928, 1059], [31.902, -92.815, 1065], [34.511, -83.436, 1068], [31.631, -92.533, 1068], [31.123, -86.758, 1094], [31.617, -92.534, 1096], [37.915, -79.458, 1098], [30.494, -86.862, 1099], [32.983, -87.506, 1116], [31.454, -93.145, 1116], [30.414, -82.32, 1118], [37.608, -91.255, 1120], [27.791, -80.554, 1125], [34.885, -88.988, 1126], [32.973, -87.49, 1144], [31.113, -88.963, 1146], [34.375, -93.511, 1149], [30.292, -82.379, 1161], [31.131, -89.107, 1165], [31.542, -88.78, 1174], [31.096, -86.541, 1204], [31.542, -92.496, 1206], [34.282, -87.196, 1207], [34.329, -87.248, 1217], [31.475, -93.064, 1197], [33.97, -89.777, 1231], [37.32, -89.366, 1235], [34.835, -89.097, 1239], [31.214, -92.659, 1239], [30.402, -82.321, 1242], [36.035, -92.33, 1245], [34.709, -89.314, 1254], [30.371, -82.596, 1263], [31.158, -89.116, 1309], [28.555, -80.9, 1295], [35.893, -81.843, 1304], [34.097, -87.378, 1305], [31.49, -88.925, 1317], [31.491, -88.942, 1319], [31.195, -92.677, 1319], [33.003, -87.504, 1324], [32.091, -92.875, 1344], [35.889, -81.83, 1348], [31.645, -90.676, 1357], [36.91, -82.447, 1358], [37.874, -91.944, 1361], [47.675, -115.897, 1365], [31.467, -95.195, 1366], [30.61, -89.003, 1382], [31.525, -88.802, 1388], [30.613, -86.662, 1390], [37.434, -88.544, 1396], [36.877, -82.467, 1401], [30.021, -85.001, 1417], [31.691, -92.443, 1363], [30.927, -88.894, 1430], [31.386, -90.87, 1445], [48.679, -118.351, 1461], [31.129, -92.594, 1466], [31.041, -86.658, 1469], [35.425, -83.631, 1471], [31.682, -92.501, 1476], [34.373, -89.343, 1477], [31.147, -92.638, 1483], [30.592, -88.984, 1488], [31.245, -93.849, 1496], [32.917, -87.427, 1508], [37.502, -88.614, 1510], [31.089, -86.521, 1513], [26.027, -81.566, 1518], [34.538, -83.41, 1534], [28.544, -80.718, 1535], [31.523, -90.807, 1541], [30.597, -86.726, 1546], [39.123, -86.262, 1547], [36.758, -84.4, 1549], [31.468, -88.734, 1567], [31.736, -92.446, 1568], [37.537, -88.466, 1575], [31.156, -86.554, 1580], [34.769, -93.468, 1587], [46.766, -115.469, 1598], [31.111, -89.072, 1614], [31.07, -86.727, 1567], [31.174, -93.794, 1639], [34.909, -94.229, 1639], [30.544, -95.661, 1646], [31.556, -92.47, 1647], [33.278, -81.759, 1654], [30.976, -88.925, 1687], [34.811, -94.243, 1887], [29.756, -94.034, 1705], [34.223, -87.34, 1726], [37.942, -91.065, 1728], [30.647, -94.678, 1743], [44.417, -83.391, 1751], [30.592, -88.903, 1752], [32.712, -93.25, 1756], [33.994, -89.791, 1761], [30.26, -84.562, 1763], [31.122, -94.994, 1764], [30.57, -86.848, 1803], [34.756, -93.471, 1812], [31.625, -93.902, 1815], [31.702, -92.454, 1815], [36.739, -84.393, 1866], [36.014, -92.226, 1873], [33.92, -88.907, 1889], [32.964, -87.329, 1891], [31.232, -93.892, 1895], [30.198, -84.945, 1906], [31.372, -91.075, 1908], [32.036, -92.829, 1923], [31.465, -88.941, 1941], [48.897, -96.585, 1946], [29.947, -84.994, 1975], [30.269, -84.494, 1978], [31.545, -90.81, 1984], [34.372, -87.284, 2007], [35.993, -92.317, 2016], [31.596, -89.018, 2039], [30.152, -84.632, 2023], [30.741, -89.023, 2053], [32.988, -87.363, 2073], [37.812, -91.025, 2080], [31.077, -94.251, 2087], [31.057, -86.752, 2094], [31.07, -92.565, 2090], [31.081, -86.632, 2091], [31.649, -92.535, 2094], [31.512, -93.121, 2110], [30.339, -82.459, 2121], [37.677, -89.08, 2123], [30.297, -84.684, 2130], [34.535, -93.861, 2141], [31.034, -86.792, 2142], [30.541, -95.635, 2166], [28.226, -80.84, 2175], [26.96, -98.412, 2178], [30.118, -84.467, 2198], [33.933, -88.939, 2201], [31.092, -86.761, 2173], [32.869, -87.416, 2213], [31.284, -93.899, 2220], [34.242, -87.217, 1612], [30.149, -84.51, 2270], [30.058, -84.882, 2276], [31.088, -86.663, 2308], [31.23, -95.123, 2321], [25.88, -81.302, 2355], [35.148, -93.39, 2374], [31.41, -88.655, 2380], [34.861, -93.902, 2388], [30.131, -84.435, 2397], [46.526, -115.06, 2398], [31.567, -93.858, 2403], [31.172, -93.633, 2467], [40.906, -123.626, 2478], [37.394, -91.291, 2479], [36.983, -91.137, 2506], [30.505, -82.505, 2515], [30.977, -88.842, 2523], [31.1, -92.562, 2578], [34.748, -93.91, 2583], [31.042, -86.778, 2585], [30.943, -88.918, 2544], [30.487, -82.355, 2623], [32.056, -92.844, 2639], [31.534, -88.933, 2665], [30.295, -84.852, 2681], [32.078, -92.952, 2683], [39.115, -120.979, 2706], [30.506, -95.78, 2722], [34.895, -93.422, 2661], [31.387, -93.757, 2759], [32.943, -87.392, 2770], [35.958, -92.336, 2812], [30.106, -84.972, 2825], [33.629, -82.112, 2852], [34.543, -93.697, 2866], [37.478, -91.383, 2922], [31.27, -93.769, 2936], [31.758, -93.956, 2953], [32.967, -87.435, 2977], [31.177, -93.848, 2986], [31.269, -95.193, 2986], [45.168, -114.9, 3013], [31.489, -95.155, 3055], [31.618, -90.771, 3028], [37.716, -90.938, 3035], [30.158, -84.469, 3041], [35.032, -93.897, 3066], [31.058, -94.289, 3112], [30.603, -95.304, 3135], [32.92, -87.364, 3146], [31.337, -95.227, 3157], [34.978, -93.967, 3159], [32.941, -87.422, 3164], [31.508, -93.085, 3189], [27.078, -97.568, 3223], [36.876, -90.547, 3237], [36.889, -84.296, 3258], [37.841, -91.92, 3325], [30.217, -84.925, 3376], [31.062, -94.355, 3444], [32.948, -87.363, 3482], [34.728, -94.201, 3530], [27.018, -98.407, 3541], [36.706, -84.399, 3571], [31.166, -94.301, 3578], [30.071, -84.558, 3666], [38.525, -78.669, 3667], [30.089, -85.029, 3668], [31.343, -94.253, 3789], [30.198, -84.782, 3799], [31.376, -94.258, 3918], [31.558, -89.018, 3956], [30.373, -84.597, 4003], [36.919, -90.596, 4130], [31.136, -94.348, 4213], [31.243, -95.153, 4215], [31.332, -94.18, 4231], [30.221, -84.59, 4350], [30.156, -84.785, 4471], [30.058, -84.686, 4594], [30.522, -82.371, 4611], [30.059, -84.949, 4631], [31.548, -88.814, 4697], [29.616, -94.285, 4742], [30.252, -84.872, 4765], [31.067, -94.174, 4767], [45.252, -115.023, 4844], [31.684, -93.851, 5057], [36.917, -92.045, 5067], [34.618, -93.476, 5096], [34.765, -94.323, 5150], [31.458, -93.031, 5340], [38.452, -79.277, 5345], [46.646, -114.639, 5450], [30.313, -84.584, 5453], [47.946, -95.551, 5555], [34.995, -93.782, 5643], [30.102, -84.847, 5778], [31.16, -92.605, 5919], [30.048, -84.918, 5911], [47.946, -95.348, 6352], [30.12, -84.949, 6789], [36.079, -92.329, 6803], [30.068, -84.732, 6977], [48.765, -119.747, 7003], [31.287, -95.253, 7272], [30.261, -84.512, 7904], [48.783, -118.28, 8049], [25.222, -81.054, 8143], [44.963, -115.007, 9766], [26.899, -98.07, 9793], [30.058, -84.807, 10582], [47.731, -96.266, 12538], [40.908, -122.364, 12593], [47.627, -115.966, 12750], [45.85, -114.92, 13807], [47.988, -108.606, 16158], [46.466, -114.499, 16374], [45.172, -114.416, 21029], [30.17, -84.561, 24747], [48.787, -119.077, 26165], [48.149, -118.873, 37393], [45.8, -113.151, 38189], [45.536, -115.385, 45254], [48.372, -118.432, 54855], [48.505, -120.43, 58591], [45.624, -113.766, 62432], [48.672, -120.157, 74601], [44.597, -115.182, 97995]],\n",
       "                {&quot;blur&quot;: 15, &quot;maxZoom&quot;: 18, &quot;minOpacity&quot;: 0.5, &quot;radius&quot;: 12}\n",
       "            ).addTo(map_eb6fdb3c18e64be817e603ce6aa7eaf9);\n",
       "        \n",
       "    \n",
       "            var layer_control_5ce5d3f209d0c9c1f251d06281bcc5a8 = {\n",
       "                base_layers : {\n",
       "                    &quot;openstreetmap&quot; : tile_layer_c6884a2b79db48da56ce16585a2b6d1f,\n",
       "                },\n",
       "                overlays :  {\n",
       "                    &quot;Fires&quot; : heat_map_9afd866835c603a0b13b6698717e8811,\n",
       "                },\n",
       "            };\n",
       "            L.control.layers(\n",
       "                layer_control_5ce5d3f209d0c9c1f251d06281bcc5a8.base_layers,\n",
       "                layer_control_5ce5d3f209d0c9c1f251d06281bcc5a8.overlays,\n",
       "                {&quot;autoZIndex&quot;: true, &quot;collapsed&quot;: true, &quot;position&quot;: &quot;topright&quot;}\n",
       "            ).addTo(map_eb6fdb3c18e64be817e603ce6aa7eaf9);\n",
       "        \n",
       "&lt;/script&gt;\n",
       "&lt;/html&gt;\" style=\"position:absolute;width:100%;height:100%;left:0;top:0;border:none !important;\" allowfullscreen webkitallowfullscreen mozallowfullscreen></iframe></div></div>"
      ],
      "text/plain": [
       "<folium.folium.Map at 0x28eb54280>"
      ]
     },
     "execution_count": 264,
     "metadata": {},
     "output_type": "execute_result"
    }
   ],
   "source": [
    "import folium\n",
    "from folium.plugins import HeatMap\n",
    "\n",
    "# Create a new map centered at the mean coordinates of the fires\n",
    "map_fires = folium.Map(location=[fires['LATITUDE'].mean(), fires['LONGITUDE'].mean()], zoom_start=5)\n",
    "\n",
    "# Create a heatmap layer using the coordinates and acres burned columns of the fires dataframe\n",
    "heatmap_data = [[row['LATITUDE'], row['LONGITUDE'], row['ACRES']] for index, row in fires.iterrows()]\n",
    "HeatMap(heatmap_data, name='Fires', radius=12, max_val=max(fires['ACRES'])).add_to(map_fires)\n",
    "\n",
    "# Add a layer control to toggle the heatmap on and off\n",
    "folium.LayerControl().add_to(map_fires)\n",
    "\n",
    "# Display the map\n",
    "map_fires\n"
   ]
  },
  {
   "attachments": {},
   "cell_type": "markdown",
   "metadata": {},
   "source": [
    "### Task 6 : Plot a density map of fire occurances (You can use gspatial-plot or seaborn or any other library)"
   ]
  },
  {
   "cell_type": "code",
   "execution_count": 265,
   "metadata": {},
   "outputs": [
    {
     "name": "stderr",
     "output_type": "stream",
     "text": [
      "/var/folders/81/7lgztltx67d37zy072b6bcsw0000gn/T/ipykernel_6631/3467856584.py:20: MatplotlibDeprecationWarning: Unable to determine Axes to steal space for Colorbar. Using gca(), but will raise in the future. Either provide the *cax* argument to use as the Axes for the Colorbar, provide the *ax* argument to steal space from it, or add *mappable* to an Axes.\n",
      "  cbar = fig.colorbar(sm)\n"
     ]
    },
    {
     "data": {
      "image/png": "[encoded data removed]",
      "text/plain": [
       "<Figure size 1000x800 with 2 Axes>"
      ]
     },
     "metadata": {},
     "output_type": "display_data"
    }
   ],
   "source": [
    "# Group the fires GeoDataFrame by state and count the number of fires in each state\n",
    "fire_count = fires.groupby('STUSPS').size().reset_index(name='fire_count')\n",
    "\n",
    "# Join the fire count data to the state boundaries GeoDataFrame\n",
    "states = states.merge(fire_count, on='STUSPS', how='left')\n",
    "\n",
    "# Calculate the density of fires in each state\n",
    "states['fire_density'] = states['fire_count'] / (states['ALAND'] + states['AWATER'])\n",
    "\n",
    "# Set up the plot\n",
    "fig, ax = plt.subplots(figsize=(10,8))\n",
    "ax.set_aspect('equal')\n",
    "\n",
    "# Plot the state boundaries and fill them with a color map based on the fire density\n",
    "states.plot(ax=ax, column='fire_density', cmap='YlOrRd', edgecolor='grey', linewidth=0.5)\n",
    "\n",
    "# Add a color bar to the plot\n",
    "sm = plt.cm.ScalarMappable(cmap='YlOrRd', norm=plt.Normalize(vmin=0, vmax=states['fire_density'].max()))\n",
    "sm._A = []\n",
    "cbar = fig.colorbar(sm)\n",
    "\n",
    "# Add a title and axis labels to the plot\n",
    "ax.set_title(\"Fire Occurrence Density by State\")\n",
    "ax.set_xlabel(\"Longitude\")\n",
    "ax.set_ylabel(\"Latitude\")\n",
    "\n",
    "plt.show()\n"
   ]
  },
  {
   "attachments": {},
   "cell_type": "markdown",
   "metadata": {},
   "source": [
    "### Task 7 : Which state had the highest number of Wildfires? (FIRE_TYPE column)"
   ]
  },
  {
   "cell_type": "code",
   "execution_count": 266,
   "metadata": {},
   "outputs": [
    {
     "name": "stdout",
     "output_type": "stream",
     "text": [
      "State with most wildfires:  Idaho\n"
     ]
    }
   ],
   "source": [
    "# Group the data by state and fire type, count the number of fires in each group\n",
    "fire_counts = fires.groupby(['NAME', 'FIRE_TYPE']).size().reset_index(name='fire_count')\n",
    "\n",
    "# fire_counts.head()\n",
    "# Filter the results to only include wildfires\n",
    "wildfire_counts = fire_counts[fire_counts['FIRE_TYPE'] == 'Wildfire']\n",
    "\n",
    "# # Find the state with the highest number of wildfires\n",
    "max_wildfires = wildfire_counts['fire_count'].max()\n",
    "state_with_max_wildfires = wildfire_counts[wildfire_counts['fire_count'] == max_wildfires]['NAME'].iloc[0]\n",
    "print(\"State with most wildfires: \", state_with_max_wildfires)"
   ]
  },
  {
   "attachments": {},
   "cell_type": "markdown",
   "metadata": {},
   "source": [
    "### Task 8 : Which state had the highest number of acres burned? (ACRES)"
   ]
  },
  {
   "cell_type": "code",
   "execution_count": 267,
   "metadata": {},
   "outputs": [
    {
     "name": "stdout",
     "output_type": "stream",
     "text": [
      "State with most acres burned:  Florida\n"
     ]
    }
   ],
   "source": [
    "# Group the data by state and sum the total number of acres burned in each group\n",
    "acres_burned = fires.groupby('NAME')['ACRES'].sum()\n",
    "\n",
    "# Find the state with the highest number of acres burned\n",
    "max_acres_burned = acres_burned.max()\n",
    "state_with_max_acres_burned = acres_burned[acres_burned == max_acres_burned].index[0]\n",
    "\n",
    "print(\"State with most acres burned: \", state_with_max_acres_burned)"
   ]
  },
  {
   "attachments": {},
   "cell_type": "markdown",
   "metadata": {},
   "source": [
    "### Task 9 : Which Month had highest number of fires?"
   ]
  },
  {
   "cell_type": "code",
   "execution_count": 268,
   "metadata": {},
   "outputs": [
    {
     "name": "stdout",
     "output_type": "stream",
     "text": [
      "Month with most fires:  March\n"
     ]
    }
   ],
   "source": [
    "# Convert the IG_DATE column to a datetime column and extract the month component\n",
    "fires['IG_DATE'] = pd.to_datetime(fires['IG_DATE'])\n",
    "fires['month'] = fires['IG_DATE'].dt.month\n",
    "\n",
    "# Group the data by month and count the number of fires in each group\n",
    "fires_by_month = fires.groupby('month')['FIRE_ID'].count()\n",
    "\n",
    "# Find the month with the highest number of fires\n",
    "max_fires = fires_by_month.max()\n",
    "month_with_max_fires = fires_by_month[fires_by_month == max_fires].index[0]\n",
    "\n",
    "months = ['January', 'February', 'March', 'April', 'May', 'June', 'July', 'August', 'September', 'October', 'November', 'December']\n",
    "print(\"Month with most fires: \", months[month_with_max_fires - 1])"
   ]
  },
  {
   "attachments": {},
   "cell_type": "markdown",
   "metadata": {},
   "source": [
    "### Task 10 : Which State had highest number of fires for the month in question 9?"
   ]
  },
  {
   "cell_type": "code",
   "execution_count": 269,
   "metadata": {},
   "outputs": [
    {
     "name": "stdout",
     "output_type": "stream",
     "text": [
      "State with most fires in the month with most fires:  Mississippi\n"
     ]
    }
   ],
   "source": [
    "fires_by_state = fires[fires['month'] == month_with_max_fires].groupby('NAME').size()\n",
    "max_fires = fires_by_state.max()\n",
    "state_with_max_fires = fires_by_state[fires_by_state == max_fires].index[0]\n",
    "print(\"State with most fires in the month with most fires: \", state_with_max_fires)"
   ]
  }
 ],
 "metadata": {
  "kernelspec": {
   "display_name": "env",
   "language": "python",
   "name": "python3"
  },
  "language_info": {
   "codemirror_mode": {
    "name": "ipython",
    "version": 3
   },
   "file_extension": ".py",
   "mimetype": "text/x-python",
   "name": "python",
   "nbconvert_exporter": "python",
   "pygments_lexer": "ipython3",
   "version": "3.10.4"
  },
  "orig_nbformat": 4
 },
 "nbformat": 4,
 "nbformat_minor": 2
}
